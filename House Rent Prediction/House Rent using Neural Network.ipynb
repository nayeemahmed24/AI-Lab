{
  "nbformat": 4,
  "nbformat_minor": 0,
  "metadata": {
    "colab": {
      "name": "Untitled4.ipynb",
      "provenance": [],
      "collapsed_sections": []
    },
    "kernelspec": {
      "name": "python3",
      "display_name": "Python 3"
    }
  },
  "cells": [
    {
      "cell_type": "code",
      "metadata": {
        "id": "jKADo_gf4z_S"
      },
      "source": [
        "import pandas as pd\r\n",
        "import numpy as np\r\n",
        "from sklearn import linear_model\r\n",
        "from sklearn.model_selection import train_test_split\r\n",
        "import seaborn as sns\r\n",
        "import matplotlib.pyplot as plt"
      ],
      "execution_count": 7,
      "outputs": []
    },
    {
      "cell_type": "code",
      "metadata": {
        "id": "icn-r2A75YGY"
      },
      "source": [
        "from sklearn.datasets import load_boston\r\n",
        "boston = load_boston()"
      ],
      "execution_count": 8,
      "outputs": []
    },
    {
      "cell_type": "code",
      "metadata": {
        "colab": {
          "base_uri": "https://localhost:8080/"
        },
        "id": "YhcrX9iI5efZ",
        "outputId": "37621006-179c-48f9-e38a-2a9afb8c4168"
      },
      "source": [
        "dataFrame_X = pd.DataFrame(boston.data, columns= boston.feature_names)\r\n",
        "print(dataFrame_X.head(5))\r\n",
        "dataFrame_Y = pd.DataFrame(boston.target)\r\n",
        "print(dataFrame_Y.head(5))"
      ],
      "execution_count": 9,
      "outputs": [
        {
          "output_type": "stream",
          "text": [
            "      CRIM    ZN  INDUS  CHAS    NOX  ...  RAD    TAX  PTRATIO       B  LSTAT\n",
            "0  0.00632  18.0   2.31   0.0  0.538  ...  1.0  296.0     15.3  396.90   4.98\n",
            "1  0.02731   0.0   7.07   0.0  0.469  ...  2.0  242.0     17.8  396.90   9.14\n",
            "2  0.02729   0.0   7.07   0.0  0.469  ...  2.0  242.0     17.8  392.83   4.03\n",
            "3  0.03237   0.0   2.18   0.0  0.458  ...  3.0  222.0     18.7  394.63   2.94\n",
            "4  0.06905   0.0   2.18   0.0  0.458  ...  3.0  222.0     18.7  396.90   5.33\n",
            "\n",
            "[5 rows x 13 columns]\n",
            "      0\n",
            "0  24.0\n",
            "1  21.6\n",
            "2  34.7\n",
            "3  33.4\n",
            "4  36.2\n"
          ],
          "name": "stdout"
        }
      ]
    },
    {
      "cell_type": "code",
      "metadata": {
        "id": "b9834vaI5fil"
      },
      "source": [
        "X_train, X_test, Y_train, Y_test = train_test_split(dataFrame_X,dataFrame_Y,test_size = 0.33,random_state=42)"
      ],
      "execution_count": 10,
      "outputs": []
    },
    {
      "cell_type": "code",
      "metadata": {
        "id": "m_eiwXrH5jf3"
      },
      "source": [
        "import keras\r\n",
        "from keras.models import Sequential\r\n",
        "from keras.layers import Dense\r\n",
        "from keras.layers import LeakyReLU,PReLU,ELU\r\n",
        "from keras.layers import Dropout"
      ],
      "execution_count": 11,
      "outputs": []
    },
    {
      "cell_type": "code",
      "metadata": {
        "colab": {
          "base_uri": "https://localhost:8080/"
        },
        "id": "qzOYV-RO5mqq",
        "outputId": "ff0b663e-f743-42ab-847c-f14ccfa4a457"
      },
      "source": [
        "nuralNetworkModel = Sequential()\r\n",
        "\r\n",
        "# The Input Layer :\r\n",
        "nuralNetworkModel.add(Dense(128, kernel_initializer='normal',input_dim = X_train.shape[1], activation='relu'))\r\n",
        "\r\n",
        "# The Hidden Layers :\r\n",
        "nuralNetworkModel.add(Dense(256, kernel_initializer='normal',activation='relu'))\r\n",
        "nuralNetworkModel.add(Dense(256, kernel_initializer='normal',activation='relu'))\r\n",
        "nuralNetworkModel.add(Dense(256, kernel_initializer='normal',activation='relu'))\r\n",
        "nuralNetworkModel.add(Dense(256, kernel_initializer='normal',activation='relu'))\r\n",
        "nuralNetworkModel.add(Dense(256, kernel_initializer='normal',activation='relu'))\r\n",
        "\r\n",
        "# The Output Layer :\r\n",
        "nuralNetworkModel.add(Dense(1, kernel_initializer='normal',activation='linear'))\r\n",
        "\r\n",
        "# Compile the network :\r\n",
        "nuralNetworkModel.compile(loss='mean_absolute_error', optimizer='adam', metrics=['mean_absolute_error'])\r\n",
        "nuralNetworkModel.summary()"
      ],
      "execution_count": 12,
      "outputs": [
        {
          "output_type": "stream",
          "text": [
            "Model: \"sequential\"\n",
            "_________________________________________________________________\n",
            "Layer (type)                 Output Shape              Param #   \n",
            "=================================================================\n",
            "dense (Dense)                (None, 128)               1792      \n",
            "_________________________________________________________________\n",
            "dense_1 (Dense)              (None, 256)               33024     \n",
            "_________________________________________________________________\n",
            "dense_2 (Dense)              (None, 256)               65792     \n",
            "_________________________________________________________________\n",
            "dense_3 (Dense)              (None, 256)               65792     \n",
            "_________________________________________________________________\n",
            "dense_4 (Dense)              (None, 256)               65792     \n",
            "_________________________________________________________________\n",
            "dense_5 (Dense)              (None, 256)               65792     \n",
            "_________________________________________________________________\n",
            "dense_6 (Dense)              (None, 1)                 257       \n",
            "=================================================================\n",
            "Total params: 298,241\n",
            "Trainable params: 298,241\n",
            "Non-trainable params: 0\n",
            "_________________________________________________________________\n"
          ],
          "name": "stdout"
        }
      ]
    },
    {
      "cell_type": "code",
      "metadata": {
        "colab": {
          "base_uri": "https://localhost:8080/"
        },
        "id": "dbBxXIWc5t8m",
        "outputId": "dc30eae2-7a30-4f4f-e889-8051c5e763ce"
      },
      "source": [
        "nuralNetworkModel.fit(X_train, Y_train,validation_split=0.33, batch_size = 10, epochs = 100)"
      ],
      "execution_count": 13,
      "outputs": [
        {
          "output_type": "stream",
          "text": [
            "Epoch 1/100\n",
            "23/23 [==============================] - 1s 22ms/step - loss: 14.9627 - mean_absolute_error: 14.9627 - val_loss: 6.5158 - val_mean_absolute_error: 6.5158\n",
            "Epoch 2/100\n",
            "23/23 [==============================] - 0s 6ms/step - loss: 7.2840 - mean_absolute_error: 7.2840 - val_loss: 5.6431 - val_mean_absolute_error: 5.6431\n",
            "Epoch 3/100\n",
            "23/23 [==============================] - 0s 6ms/step - loss: 6.5750 - mean_absolute_error: 6.5750 - val_loss: 5.8340 - val_mean_absolute_error: 5.8340\n",
            "Epoch 4/100\n",
            "23/23 [==============================] - 0s 7ms/step - loss: 6.0035 - mean_absolute_error: 6.0035 - val_loss: 6.5990 - val_mean_absolute_error: 6.5990\n",
            "Epoch 5/100\n",
            "23/23 [==============================] - 0s 6ms/step - loss: 6.3728 - mean_absolute_error: 6.3728 - val_loss: 5.7081 - val_mean_absolute_error: 5.7081\n",
            "Epoch 6/100\n",
            "23/23 [==============================] - 0s 6ms/step - loss: 6.9556 - mean_absolute_error: 6.9556 - val_loss: 5.0285 - val_mean_absolute_error: 5.0285\n",
            "Epoch 7/100\n",
            "23/23 [==============================] - 0s 6ms/step - loss: 5.8163 - mean_absolute_error: 5.8163 - val_loss: 4.9912 - val_mean_absolute_error: 4.9912\n",
            "Epoch 8/100\n",
            "23/23 [==============================] - 0s 6ms/step - loss: 5.7916 - mean_absolute_error: 5.7916 - val_loss: 5.4033 - val_mean_absolute_error: 5.4033\n",
            "Epoch 9/100\n",
            "23/23 [==============================] - 0s 6ms/step - loss: 5.5339 - mean_absolute_error: 5.5339 - val_loss: 5.6218 - val_mean_absolute_error: 5.6218\n",
            "Epoch 10/100\n",
            "23/23 [==============================] - 0s 6ms/step - loss: 6.2366 - mean_absolute_error: 6.2366 - val_loss: 4.8948 - val_mean_absolute_error: 4.8948\n",
            "Epoch 11/100\n",
            "23/23 [==============================] - 0s 6ms/step - loss: 5.5620 - mean_absolute_error: 5.5620 - val_loss: 5.0927 - val_mean_absolute_error: 5.0927\n",
            "Epoch 12/100\n",
            "23/23 [==============================] - 0s 6ms/step - loss: 5.2738 - mean_absolute_error: 5.2738 - val_loss: 5.4371 - val_mean_absolute_error: 5.4371\n",
            "Epoch 13/100\n",
            "23/23 [==============================] - 0s 6ms/step - loss: 5.8596 - mean_absolute_error: 5.8596 - val_loss: 4.9381 - val_mean_absolute_error: 4.9381\n",
            "Epoch 14/100\n",
            "23/23 [==============================] - 0s 6ms/step - loss: 5.2006 - mean_absolute_error: 5.2006 - val_loss: 5.6226 - val_mean_absolute_error: 5.6226\n",
            "Epoch 15/100\n",
            "23/23 [==============================] - 0s 6ms/step - loss: 5.6099 - mean_absolute_error: 5.6099 - val_loss: 5.4427 - val_mean_absolute_error: 5.4427\n",
            "Epoch 16/100\n",
            "23/23 [==============================] - 0s 6ms/step - loss: 5.4883 - mean_absolute_error: 5.4883 - val_loss: 4.4578 - val_mean_absolute_error: 4.4578\n",
            "Epoch 17/100\n",
            "23/23 [==============================] - 0s 6ms/step - loss: 4.9839 - mean_absolute_error: 4.9839 - val_loss: 5.3519 - val_mean_absolute_error: 5.3519\n",
            "Epoch 18/100\n",
            "23/23 [==============================] - 0s 13ms/step - loss: 5.8249 - mean_absolute_error: 5.8249 - val_loss: 4.5527 - val_mean_absolute_error: 4.5527\n",
            "Epoch 19/100\n",
            "23/23 [==============================] - 0s 6ms/step - loss: 5.3688 - mean_absolute_error: 5.3688 - val_loss: 5.1327 - val_mean_absolute_error: 5.1327\n",
            "Epoch 20/100\n",
            "23/23 [==============================] - 0s 7ms/step - loss: 5.0091 - mean_absolute_error: 5.0091 - val_loss: 4.9095 - val_mean_absolute_error: 4.9095\n",
            "Epoch 21/100\n",
            "23/23 [==============================] - 0s 6ms/step - loss: 4.9512 - mean_absolute_error: 4.9512 - val_loss: 4.8760 - val_mean_absolute_error: 4.8760\n",
            "Epoch 22/100\n",
            "23/23 [==============================] - 0s 6ms/step - loss: 4.8708 - mean_absolute_error: 4.8708 - val_loss: 4.7610 - val_mean_absolute_error: 4.7610\n",
            "Epoch 23/100\n",
            "23/23 [==============================] - 0s 6ms/step - loss: 4.5409 - mean_absolute_error: 4.5409 - val_loss: 4.9767 - val_mean_absolute_error: 4.9767\n",
            "Epoch 24/100\n",
            "23/23 [==============================] - 0s 6ms/step - loss: 4.8917 - mean_absolute_error: 4.8917 - val_loss: 6.1594 - val_mean_absolute_error: 6.1594\n",
            "Epoch 25/100\n",
            "23/23 [==============================] - 0s 6ms/step - loss: 6.5414 - mean_absolute_error: 6.5414 - val_loss: 4.4174 - val_mean_absolute_error: 4.4174\n",
            "Epoch 26/100\n",
            "23/23 [==============================] - 0s 6ms/step - loss: 5.4201 - mean_absolute_error: 5.4201 - val_loss: 4.3275 - val_mean_absolute_error: 4.3275\n",
            "Epoch 27/100\n",
            "23/23 [==============================] - 0s 6ms/step - loss: 4.5399 - mean_absolute_error: 4.5399 - val_loss: 4.3362 - val_mean_absolute_error: 4.3362\n",
            "Epoch 28/100\n",
            "23/23 [==============================] - 0s 6ms/step - loss: 4.4844 - mean_absolute_error: 4.4844 - val_loss: 5.5186 - val_mean_absolute_error: 5.5186\n",
            "Epoch 29/100\n",
            "23/23 [==============================] - 0s 6ms/step - loss: 5.5311 - mean_absolute_error: 5.5311 - val_loss: 4.6174 - val_mean_absolute_error: 4.6174\n",
            "Epoch 30/100\n",
            "23/23 [==============================] - 0s 6ms/step - loss: 4.2460 - mean_absolute_error: 4.2460 - val_loss: 4.8597 - val_mean_absolute_error: 4.8597\n",
            "Epoch 31/100\n",
            "23/23 [==============================] - 0s 7ms/step - loss: 4.4473 - mean_absolute_error: 4.4473 - val_loss: 4.2851 - val_mean_absolute_error: 4.2851\n",
            "Epoch 32/100\n",
            "23/23 [==============================] - 0s 6ms/step - loss: 3.9461 - mean_absolute_error: 3.9461 - val_loss: 3.9408 - val_mean_absolute_error: 3.9408\n",
            "Epoch 33/100\n",
            "23/23 [==============================] - 0s 6ms/step - loss: 3.7689 - mean_absolute_error: 3.7689 - val_loss: 5.3615 - val_mean_absolute_error: 5.3615\n",
            "Epoch 34/100\n",
            "23/23 [==============================] - 0s 6ms/step - loss: 4.7830 - mean_absolute_error: 4.7830 - val_loss: 4.2006 - val_mean_absolute_error: 4.2006\n",
            "Epoch 35/100\n",
            "23/23 [==============================] - 0s 6ms/step - loss: 4.2478 - mean_absolute_error: 4.2478 - val_loss: 4.7882 - val_mean_absolute_error: 4.7882\n",
            "Epoch 36/100\n",
            "23/23 [==============================] - 0s 6ms/step - loss: 3.7991 - mean_absolute_error: 3.7991 - val_loss: 7.0349 - val_mean_absolute_error: 7.0349\n",
            "Epoch 37/100\n",
            "23/23 [==============================] - 0s 6ms/step - loss: 5.0558 - mean_absolute_error: 5.0558 - val_loss: 5.3082 - val_mean_absolute_error: 5.3082\n",
            "Epoch 38/100\n",
            "23/23 [==============================] - 0s 7ms/step - loss: 4.2684 - mean_absolute_error: 4.2684 - val_loss: 3.8180 - val_mean_absolute_error: 3.8180\n",
            "Epoch 39/100\n",
            "23/23 [==============================] - 0s 7ms/step - loss: 3.8716 - mean_absolute_error: 3.8716 - val_loss: 4.0746 - val_mean_absolute_error: 4.0746\n",
            "Epoch 40/100\n",
            "23/23 [==============================] - 0s 6ms/step - loss: 3.9572 - mean_absolute_error: 3.9572 - val_loss: 3.6213 - val_mean_absolute_error: 3.6213\n",
            "Epoch 41/100\n",
            "23/23 [==============================] - 0s 7ms/step - loss: 4.0411 - mean_absolute_error: 4.0411 - val_loss: 3.7619 - val_mean_absolute_error: 3.7619\n",
            "Epoch 42/100\n",
            "23/23 [==============================] - 0s 6ms/step - loss: 3.6111 - mean_absolute_error: 3.6111 - val_loss: 3.9619 - val_mean_absolute_error: 3.9619\n",
            "Epoch 43/100\n",
            "23/23 [==============================] - 0s 6ms/step - loss: 3.9845 - mean_absolute_error: 3.9845 - val_loss: 4.0088 - val_mean_absolute_error: 4.0088\n",
            "Epoch 44/100\n",
            "23/23 [==============================] - 0s 6ms/step - loss: 3.5927 - mean_absolute_error: 3.5927 - val_loss: 3.6498 - val_mean_absolute_error: 3.6498\n",
            "Epoch 45/100\n",
            "23/23 [==============================] - 0s 7ms/step - loss: 4.2027 - mean_absolute_error: 4.2027 - val_loss: 3.8930 - val_mean_absolute_error: 3.8930\n",
            "Epoch 46/100\n",
            "23/23 [==============================] - 0s 6ms/step - loss: 3.9988 - mean_absolute_error: 3.9988 - val_loss: 5.5206 - val_mean_absolute_error: 5.5206\n",
            "Epoch 47/100\n",
            "23/23 [==============================] - 0s 6ms/step - loss: 4.7972 - mean_absolute_error: 4.7972 - val_loss: 3.7477 - val_mean_absolute_error: 3.7477\n",
            "Epoch 48/100\n",
            "23/23 [==============================] - 0s 6ms/step - loss: 3.9915 - mean_absolute_error: 3.9915 - val_loss: 4.2476 - val_mean_absolute_error: 4.2476\n",
            "Epoch 49/100\n",
            "23/23 [==============================] - 0s 6ms/step - loss: 3.5618 - mean_absolute_error: 3.5618 - val_loss: 4.8942 - val_mean_absolute_error: 4.8942\n",
            "Epoch 50/100\n",
            "23/23 [==============================] - 0s 6ms/step - loss: 3.8078 - mean_absolute_error: 3.8078 - val_loss: 3.8393 - val_mean_absolute_error: 3.8393\n",
            "Epoch 51/100\n",
            "23/23 [==============================] - 0s 6ms/step - loss: 4.0896 - mean_absolute_error: 4.0896 - val_loss: 5.9351 - val_mean_absolute_error: 5.9351\n",
            "Epoch 52/100\n",
            "23/23 [==============================] - 0s 6ms/step - loss: 4.2116 - mean_absolute_error: 4.2116 - val_loss: 4.0953 - val_mean_absolute_error: 4.0953\n",
            "Epoch 53/100\n",
            "23/23 [==============================] - 0s 7ms/step - loss: 3.6447 - mean_absolute_error: 3.6447 - val_loss: 5.4051 - val_mean_absolute_error: 5.4051\n",
            "Epoch 54/100\n",
            "23/23 [==============================] - 0s 6ms/step - loss: 4.6493 - mean_absolute_error: 4.6493 - val_loss: 3.8188 - val_mean_absolute_error: 3.8188\n",
            "Epoch 55/100\n",
            "23/23 [==============================] - 0s 12ms/step - loss: 3.1906 - mean_absolute_error: 3.1906 - val_loss: 4.1691 - val_mean_absolute_error: 4.1691\n",
            "Epoch 56/100\n",
            "23/23 [==============================] - 0s 6ms/step - loss: 3.8152 - mean_absolute_error: 3.8152 - val_loss: 3.3499 - val_mean_absolute_error: 3.3499\n",
            "Epoch 57/100\n",
            "23/23 [==============================] - 0s 6ms/step - loss: 4.5096 - mean_absolute_error: 4.5096 - val_loss: 3.8092 - val_mean_absolute_error: 3.8092\n",
            "Epoch 58/100\n",
            "23/23 [==============================] - 0s 6ms/step - loss: 3.7785 - mean_absolute_error: 3.7785 - val_loss: 3.7662 - val_mean_absolute_error: 3.7662\n",
            "Epoch 59/100\n",
            "23/23 [==============================] - 0s 6ms/step - loss: 3.5931 - mean_absolute_error: 3.5931 - val_loss: 3.1957 - val_mean_absolute_error: 3.1957\n",
            "Epoch 60/100\n",
            "23/23 [==============================] - 0s 6ms/step - loss: 3.8073 - mean_absolute_error: 3.8073 - val_loss: 3.7663 - val_mean_absolute_error: 3.7663\n",
            "Epoch 61/100\n",
            "23/23 [==============================] - 0s 6ms/step - loss: 3.1721 - mean_absolute_error: 3.1721 - val_loss: 3.4632 - val_mean_absolute_error: 3.4632\n",
            "Epoch 62/100\n",
            "23/23 [==============================] - 0s 7ms/step - loss: 4.1107 - mean_absolute_error: 4.1107 - val_loss: 3.4538 - val_mean_absolute_error: 3.4538\n",
            "Epoch 63/100\n",
            "23/23 [==============================] - 0s 6ms/step - loss: 3.7223 - mean_absolute_error: 3.7223 - val_loss: 3.5565 - val_mean_absolute_error: 3.5565\n",
            "Epoch 64/100\n",
            "23/23 [==============================] - 0s 6ms/step - loss: 3.6409 - mean_absolute_error: 3.6409 - val_loss: 3.3211 - val_mean_absolute_error: 3.3211\n",
            "Epoch 65/100\n",
            "23/23 [==============================] - 0s 6ms/step - loss: 3.3577 - mean_absolute_error: 3.3577 - val_loss: 3.4285 - val_mean_absolute_error: 3.4285\n",
            "Epoch 66/100\n",
            "23/23 [==============================] - 0s 6ms/step - loss: 3.4669 - mean_absolute_error: 3.4669 - val_loss: 3.4219 - val_mean_absolute_error: 3.4219\n",
            "Epoch 67/100\n",
            "23/23 [==============================] - 0s 6ms/step - loss: 3.5615 - mean_absolute_error: 3.5615 - val_loss: 3.1357 - val_mean_absolute_error: 3.1357\n",
            "Epoch 68/100\n",
            "23/23 [==============================] - 0s 6ms/step - loss: 3.6212 - mean_absolute_error: 3.6212 - val_loss: 2.8516 - val_mean_absolute_error: 2.8516\n",
            "Epoch 69/100\n",
            "23/23 [==============================] - 0s 6ms/step - loss: 3.0344 - mean_absolute_error: 3.0344 - val_loss: 3.2765 - val_mean_absolute_error: 3.2765\n",
            "Epoch 70/100\n",
            "23/23 [==============================] - 0s 6ms/step - loss: 3.0524 - mean_absolute_error: 3.0524 - val_loss: 3.0568 - val_mean_absolute_error: 3.0568\n",
            "Epoch 71/100\n",
            "23/23 [==============================] - 0s 6ms/step - loss: 3.0883 - mean_absolute_error: 3.0883 - val_loss: 3.5149 - val_mean_absolute_error: 3.5149\n",
            "Epoch 72/100\n",
            "23/23 [==============================] - 0s 6ms/step - loss: 3.5834 - mean_absolute_error: 3.5834 - val_loss: 6.4737 - val_mean_absolute_error: 6.4737\n",
            "Epoch 73/100\n",
            "23/23 [==============================] - 0s 6ms/step - loss: 4.9818 - mean_absolute_error: 4.9818 - val_loss: 4.7266 - val_mean_absolute_error: 4.7266\n",
            "Epoch 74/100\n",
            "23/23 [==============================] - 0s 6ms/step - loss: 3.8017 - mean_absolute_error: 3.8017 - val_loss: 3.8559 - val_mean_absolute_error: 3.8559\n",
            "Epoch 75/100\n",
            "23/23 [==============================] - 0s 7ms/step - loss: 3.6585 - mean_absolute_error: 3.6585 - val_loss: 3.6236 - val_mean_absolute_error: 3.6236\n",
            "Epoch 76/100\n",
            "23/23 [==============================] - 0s 6ms/step - loss: 3.3315 - mean_absolute_error: 3.3315 - val_loss: 3.4385 - val_mean_absolute_error: 3.4385\n",
            "Epoch 77/100\n",
            "23/23 [==============================] - 0s 6ms/step - loss: 3.1933 - mean_absolute_error: 3.1933 - val_loss: 4.0295 - val_mean_absolute_error: 4.0295\n",
            "Epoch 78/100\n",
            "23/23 [==============================] - 0s 7ms/step - loss: 4.3111 - mean_absolute_error: 4.3111 - val_loss: 3.5714 - val_mean_absolute_error: 3.5714\n",
            "Epoch 79/100\n",
            "23/23 [==============================] - 0s 6ms/step - loss: 3.6863 - mean_absolute_error: 3.6863 - val_loss: 4.6478 - val_mean_absolute_error: 4.6478\n",
            "Epoch 80/100\n",
            "23/23 [==============================] - 0s 6ms/step - loss: 3.2925 - mean_absolute_error: 3.2925 - val_loss: 3.1830 - val_mean_absolute_error: 3.1830\n",
            "Epoch 81/100\n",
            "23/23 [==============================] - 0s 7ms/step - loss: 3.3377 - mean_absolute_error: 3.3377 - val_loss: 2.9122 - val_mean_absolute_error: 2.9122\n",
            "Epoch 82/100\n",
            "23/23 [==============================] - 0s 6ms/step - loss: 3.8448 - mean_absolute_error: 3.8448 - val_loss: 5.9132 - val_mean_absolute_error: 5.9132\n",
            "Epoch 83/100\n",
            "23/23 [==============================] - 0s 6ms/step - loss: 4.5169 - mean_absolute_error: 4.5169 - val_loss: 3.3425 - val_mean_absolute_error: 3.3425\n",
            "Epoch 84/100\n",
            "23/23 [==============================] - 0s 6ms/step - loss: 3.3801 - mean_absolute_error: 3.3801 - val_loss: 4.2333 - val_mean_absolute_error: 4.2333\n",
            "Epoch 85/100\n",
            "23/23 [==============================] - 0s 6ms/step - loss: 4.4714 - mean_absolute_error: 4.4714 - val_loss: 3.4363 - val_mean_absolute_error: 3.4363\n",
            "Epoch 86/100\n",
            "23/23 [==============================] - 0s 6ms/step - loss: 3.1973 - mean_absolute_error: 3.1973 - val_loss: 3.1650 - val_mean_absolute_error: 3.1650\n",
            "Epoch 87/100\n",
            "23/23 [==============================] - 0s 6ms/step - loss: 2.6080 - mean_absolute_error: 2.6080 - val_loss: 3.1172 - val_mean_absolute_error: 3.1172\n",
            "Epoch 88/100\n",
            "23/23 [==============================] - 0s 6ms/step - loss: 3.1231 - mean_absolute_error: 3.1231 - val_loss: 4.3423 - val_mean_absolute_error: 4.3423\n",
            "Epoch 89/100\n",
            "23/23 [==============================] - 0s 6ms/step - loss: 2.9923 - mean_absolute_error: 2.9923 - val_loss: 3.1176 - val_mean_absolute_error: 3.1176\n",
            "Epoch 90/100\n",
            "23/23 [==============================] - 0s 6ms/step - loss: 3.2725 - mean_absolute_error: 3.2725 - val_loss: 2.8839 - val_mean_absolute_error: 2.8839\n",
            "Epoch 91/100\n",
            "23/23 [==============================] - 0s 6ms/step - loss: 3.9025 - mean_absolute_error: 3.9025 - val_loss: 4.6673 - val_mean_absolute_error: 4.6673\n",
            "Epoch 92/100\n",
            "23/23 [==============================] - 0s 6ms/step - loss: 3.5311 - mean_absolute_error: 3.5311 - val_loss: 3.1577 - val_mean_absolute_error: 3.1577\n",
            "Epoch 93/100\n",
            "23/23 [==============================] - 0s 6ms/step - loss: 2.8577 - mean_absolute_error: 2.8577 - val_loss: 2.8945 - val_mean_absolute_error: 2.8945\n",
            "Epoch 94/100\n",
            "23/23 [==============================] - 0s 6ms/step - loss: 3.2230 - mean_absolute_error: 3.2230 - val_loss: 3.0124 - val_mean_absolute_error: 3.0124\n",
            "Epoch 95/100\n",
            "23/23 [==============================] - 0s 6ms/step - loss: 3.1606 - mean_absolute_error: 3.1606 - val_loss: 3.1406 - val_mean_absolute_error: 3.1406\n",
            "Epoch 96/100\n",
            "23/23 [==============================] - 0s 6ms/step - loss: 3.1319 - mean_absolute_error: 3.1319 - val_loss: 3.1653 - val_mean_absolute_error: 3.1653\n",
            "Epoch 97/100\n",
            "23/23 [==============================] - 0s 6ms/step - loss: 3.2683 - mean_absolute_error: 3.2683 - val_loss: 3.1364 - val_mean_absolute_error: 3.1364\n",
            "Epoch 98/100\n",
            "23/23 [==============================] - 0s 6ms/step - loss: 3.0170 - mean_absolute_error: 3.0170 - val_loss: 2.9298 - val_mean_absolute_error: 2.9298\n",
            "Epoch 99/100\n",
            "23/23 [==============================] - 0s 7ms/step - loss: 3.1103 - mean_absolute_error: 3.1103 - val_loss: 4.5801 - val_mean_absolute_error: 4.5801\n",
            "Epoch 100/100\n",
            "23/23 [==============================] - 0s 6ms/step - loss: 3.6077 - mean_absolute_error: 3.6077 - val_loss: 4.2311 - val_mean_absolute_error: 4.2311\n"
          ],
          "name": "stdout"
        },
        {
          "output_type": "execute_result",
          "data": {
            "text/plain": [
              "<tensorflow.python.keras.callbacks.History at 0x7f18046a4668>"
            ]
          },
          "metadata": {
            "tags": []
          },
          "execution_count": 13
        }
      ]
    },
    {
      "cell_type": "code",
      "metadata": {
        "id": "u6ahQfMB5vhY"
      },
      "source": [
        "predictValues = nuralNetworkModel.predict(X_test)"
      ],
      "execution_count": 14,
      "outputs": []
    },
    {
      "cell_type": "code",
      "metadata": {
        "colab": {
          "base_uri": "https://localhost:8080/",
          "height": 317
        },
        "id": "OJLYSaPp5yub",
        "outputId": "9899d215-46da-4a8a-c861-74e8c0f342e7"
      },
      "source": [
        "plt.scatter(Y_test,predictValues)\r\n",
        "from sklearn import metrics\r\n",
        "print('MAE:', metrics.mean_absolute_error(Y_test, predictValues))\r\n",
        "print('MSE:', metrics.mean_squared_error(Y_test, predictValues))\r\n",
        "print('RMSE:', np.sqrt(metrics.mean_squared_error(Y_test, predictValues)))"
      ],
      "execution_count": 15,
      "outputs": [
        {
          "output_type": "stream",
          "text": [
            "MAE: 3.67172773726686\n",
            "MSE: 27.48493617301207\n",
            "RMSE: 5.242607764558786\n"
          ],
          "name": "stdout"
        },
        {
          "output_type": "display_data",
          "data": {
            "image/png": "[encoded data removed]",
            "text/plain": [
              "<Figure size 432x288 with 1 Axes>"
            ]
          },
          "metadata": {
            "tags": [],
            "needs_background": "light"
          }
        }
      ]
    }
  ]
}